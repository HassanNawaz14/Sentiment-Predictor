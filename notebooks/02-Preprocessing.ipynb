{
 "cells": [
  {
   "cell_type": "markdown",
   "id": "be899785-0d1c-45eb-842b-2fa1553d3c9d",
   "metadata": {},
   "source": [
    "# Preprocessing:"
   ]
  },
  {
   "cell_type": "code",
   "execution_count": 6,
   "id": "a54750cf-da44-46c3-95b2-3835c73550a2",
   "metadata": {},
   "outputs": [],
   "source": [
    "import re\n",
    "import string\n",
    "from wordcloud import STOPWORDS\n",
    "import pandas as pd\n",
    "\n",
    "df = pd.read_csv(\"../data/raw/Dataset.csv\")"
   ]
  },
  {
   "cell_type": "markdown",
   "id": "02ceaa16-a386-47f1-a314-04927c268dd2",
   "metadata": {},
   "source": [
    "### cleaning function:"
   ]
  },
  {
   "cell_type": "code",
   "execution_count": 7,
   "id": "3e080fcf-97d5-4bf7-bb3d-fdcccca893ea",
   "metadata": {},
   "outputs": [],
   "source": [
    "def clean_text(text):\n",
    "    # 1. Lowercase\n",
    "    text = text.lower()\n",
    "    \n",
    "    # 2. Remove HTML tags like <br>\n",
    "    text = re.sub(r\"<.*?>\", \" \", text)\n",
    "    \n",
    "    # 3. Remove punctuation\n",
    "    text = text.translate(str.maketrans(\"\", \"\", string.punctuation))\n",
    "    \n",
    "    # 4. Remove numbers\n",
    "    text = re.sub(r\"\\d+\", \" \", text)\n",
    "    \n",
    "    # 5. Remove stopwords\n",
    "    words = [word for word in text.split() if word not in STOPWORDS]\n",
    "    \n",
    "    # 6. Join back into string\n",
    "    return \" \".join(words)\n"
   ]
  },
  {
   "cell_type": "markdown",
   "id": "acdd87bb-7a31-4c0d-bc27-619e95bc2989",
   "metadata": {},
   "source": [
    "### Applying to data:"
   ]
  },
  {
   "cell_type": "code",
   "execution_count": 8,
   "id": "037d91e5-1188-4a46-ad25-819f2e08c48d",
   "metadata": {},
   "outputs": [
    {
     "name": "stdout",
     "output_type": "stream",
     "text": [
      "                                              review  \\\n",
      "0  One of the other reviewers has mentioned that ...   \n",
      "1  A wonderful little production. <br /><br />The...   \n",
      "2  I thought this was a wonderful way to spend ti...   \n",
      "3  Basically there's a family where a little boy ...   \n",
      "4  Petter Mattei's \"Love in the Time of Money\" is...   \n",
      "\n",
      "                                        clean_review  \n",
      "0  one reviewers mentioned watching oz episode yo...  \n",
      "1  wonderful little production filming technique ...  \n",
      "2  thought wonderful way spend time hot summer we...  \n",
      "3  basically theres family little boy jake thinks...  \n",
      "4  petter matteis love time money visually stunni...  \n"
     ]
    }
   ],
   "source": [
    "df[\"clean_review\"] = df[\"review\"].apply(clean_text)\n",
    "print(df[[\"review\", \"clean_review\"]].head())"
   ]
  },
  {
   "cell_type": "markdown",
   "id": "0c09adff-ea20-48e0-8dda-2179f24108d2",
   "metadata": {},
   "source": [
    "### Save preprocessed dataset:"
   ]
  },
  {
   "cell_type": "code",
   "execution_count": 9,
   "id": "3973a91d-317d-4275-8624-f3908b8d04e0",
   "metadata": {},
   "outputs": [],
   "source": [
    "\n",
    "df.to_csv(\"../data/processed/clean_reviews.csv\", index=False)\n"
   ]
  },
  {
   "cell_type": "code",
   "execution_count": null,
   "id": "38a1b5a9-fcde-4090-b2a1-36cb11550f2f",
   "metadata": {},
   "outputs": [],
   "source": []
  }
 ],
 "metadata": {
  "kernelspec": {
   "display_name": "Python 3 (ipykernel)",
   "language": "python",
   "name": "python3"
  },
  "language_info": {
   "codemirror_mode": {
    "name": "ipython",
    "version": 3
   },
   "file_extension": ".py",
   "mimetype": "text/x-python",
   "name": "python",
   "nbconvert_exporter": "python",
   "pygments_lexer": "ipython3",
   "version": "3.11.9"
  }
 },
 "nbformat": 4,
 "nbformat_minor": 5
}
